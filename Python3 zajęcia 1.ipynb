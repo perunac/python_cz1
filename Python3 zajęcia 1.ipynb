{
 "cells": [
  {
   "cell_type": "markdown",
   "metadata": {},
   "source": [
    "## Wykonaj obliczenia matematyczne:\n",
    "\n",
    "- 1234123 + 12312\n",
    "- 12341-42331\n",
    "- 34123*34143\n",
    "- 4123/4123\n",
    "- część całkowita z dzielenia 6/5\n",
    "- 2 do potęgi 11\n",
    "- 8 modulo 3"
   ]
  },
  {
   "cell_type": "code",
   "execution_count": 1,
   "metadata": {
    "collapsed": false
   },
   "outputs": [
    {
     "data": {
      "text/plain": [
       "1246435"
      ]
     },
     "execution_count": 1,
     "metadata": {},
     "output_type": "execute_result"
    }
   ],
   "source": [
    "1234123 + 12312"
   ]
  },
  {
   "cell_type": "code",
   "execution_count": 2,
   "metadata": {
    "collapsed": false
   },
   "outputs": [
    {
     "data": {
      "text/plain": [
       "-29990"
      ]
     },
     "execution_count": 2,
     "metadata": {},
     "output_type": "execute_result"
    }
   ],
   "source": [
    "12341-42331"
   ]
  },
  {
   "cell_type": "code",
   "execution_count": null,
   "metadata": {
    "collapsed": true
   },
   "outputs": [],
   "source": [
    "34123*34143"
   ]
  },
  {
   "cell_type": "code",
   "execution_count": null,
   "metadata": {
    "collapsed": true
   },
   "outputs": [],
   "source": [
    "4123/4123"
   ]
  },
  {
   "cell_type": "code",
   "execution_count": null,
   "metadata": {
    "collapsed": false
   },
   "outputs": [],
   "source": [
    "6//5"
   ]
  },
  {
   "cell_type": "code",
   "execution_count": null,
   "metadata": {
    "collapsed": false
   },
   "outputs": [],
   "source": [
    "2**11"
   ]
  },
  {
   "cell_type": "code",
   "execution_count": null,
   "metadata": {
    "collapsed": false
   },
   "outputs": [],
   "source": [
    "8%3"
   ]
  },
  {
   "cell_type": "markdown",
   "metadata": {},
   "source": [
    "## Oblicz wartość wyrażenia logicznego:\n",
    "- 1 AND 0\n",
    "- 1 OR 0\n",
    "- NOT(1 OR 0)\n",
    "- NOT(1 OR 0 AND 1)"
   ]
  },
  {
   "cell_type": "code",
   "execution_count": null,
   "metadata": {
    "collapsed": true
   },
   "outputs": [],
   "source": [
    "1 and 0"
   ]
  },
  {
   "cell_type": "code",
   "execution_count": null,
   "metadata": {
    "collapsed": true
   },
   "outputs": [],
   "source": [
    "1 or 0"
   ]
  },
  {
   "cell_type": "code",
   "execution_count": 2,
   "metadata": {
    "collapsed": false
   },
   "outputs": [
    {
     "data": {
      "text/plain": [
       "False"
      ]
     },
     "execution_count": 2,
     "metadata": {},
     "output_type": "execute_result"
    }
   ],
   "source": [
    "not(1 or 0)"
   ]
  },
  {
   "cell_type": "code",
   "execution_count": null,
   "metadata": {
    "collapsed": true
   },
   "outputs": [],
   "source": [
    "not(1 or 0 and 1)"
   ]
  },
  {
   "cell_type": "markdown",
   "metadata": {},
   "source": [
    "## Operatory porówniania, oblicz wartość:\n",
    "\n",
    "- 123>312\n",
    "- 324<534\n",
    "- 4534==3124\n",
    "- 412312!=524311\n",
    "- 31232<=41231\n",
    "- 523443>=14523123"
   ]
  },
  {
   "cell_type": "code",
   "execution_count": null,
   "metadata": {
    "collapsed": true
   },
   "outputs": [],
   "source": [
    "123 > 312"
   ]
  },
  {
   "cell_type": "code",
   "execution_count": null,
   "metadata": {
    "collapsed": true
   },
   "outputs": [],
   "source": [
    "324 < 534"
   ]
  },
  {
   "cell_type": "code",
   "execution_count": null,
   "metadata": {
    "collapsed": true
   },
   "outputs": [],
   "source": [
    "4534 == 3124"
   ]
  },
  {
   "cell_type": "code",
   "execution_count": null,
   "metadata": {
    "collapsed": true
   },
   "outputs": [],
   "source": [
    "412312 != 524311"
   ]
  },
  {
   "cell_type": "code",
   "execution_count": null,
   "metadata": {
    "collapsed": true
   },
   "outputs": [],
   "source": [
    "31232 <= 41231"
   ]
  },
  {
   "cell_type": "code",
   "execution_count": 3,
   "metadata": {
    "collapsed": false
   },
   "outputs": [
    {
     "data": {
      "text/plain": [
       "False"
      ]
     },
     "execution_count": 3,
     "metadata": {},
     "output_type": "execute_result"
    }
   ],
   "source": [
    "523443 >= 14523123"
   ]
  },
  {
   "cell_type": "markdown",
   "metadata": {},
   "source": [
    "## Przypisywanie zmiennych:\n",
    "\n",
    "Przypisz zmiennej a wartość 1, zmiennej b wartość 2. Wykonaj zadanie \"*Wykonaj obliczenia matematyczne*\" używając zamiast liczb zmiennych. Wyniki poszczególnych zadań zapisz do kolejnych liter alfabetu. Wypisz wyniki w jednej linii przy pomocy funkcji print()\n",
    "Następnie przypisz do wszystkich stworzonych zmiennych wartość 0, zrób to za pomocą jednej komendy. Wypisz wszystkie zmienne za pomocą funkcji print()"
   ]
  },
  {
   "cell_type": "code",
   "execution_count": 3,
   "metadata": {
    "collapsed": false
   },
   "outputs": [
    {
     "name": "stdout",
     "output_type": "stream",
     "text": [
      "3 -1 2 0.5 0 1 1\n"
     ]
    }
   ],
   "source": [
    "a = 1\n",
    "b = 2\n",
    "c = a + b\n",
    "d = a - b\n",
    "e = a * b\n",
    "f = a / b\n",
    "g = a // b\n",
    "h = a ** b\n",
    "i = a % b\n",
    "print(c, d, e, f, g, h, i)"
   ]
  },
  {
   "cell_type": "markdown",
   "metadata": {},
   "source": [
    "## Importowanie:\n",
    "Zamiportuj moduł math, wykonaj kilka obliczeń z wykorzystaniem funkcji math.sin() math.sqrt() math.log() oraz zmiennych math.pi, math.e"
   ]
  },
  {
   "cell_type": "code",
   "execution_count": 6,
   "metadata": {
    "collapsed": false
   },
   "outputs": [
    {
     "name": "stdout",
     "output_type": "stream",
     "text": [
      "1.2246467991473532e-16\n",
      "1.0\n",
      "4.0\n"
     ]
    }
   ],
   "source": [
    "import math\n",
    "print(math.sin(math.pi))\n",
    "print(math.log(math.e))\n",
    "print(math.sqrt(16))"
   ]
  },
  {
   "cell_type": "markdown",
   "metadata": {},
   "source": [
    "## Warunki:\n",
    "Zaimportuj moduł random. Przy pomocy funkcji random.randint(0,10) przypisz do zmiennych a i b dwie losowe liczby z zakresu [0, 10].\n",
    "Napisz klauzule if która będzie odnosić się do zmiennych a i b. Jeżeli zmienna a jest większa, wypisz \"A jest większę\" oraz wartość a, jeżeli zmienna b jest większa wypisz \"B jest większe\" oraz wartość b. W przypadku gdy zmienne są równe nie wypisuj nic."
   ]
  },
  {
   "cell_type": "code",
   "execution_count": 26,
   "metadata": {
    "collapsed": false
   },
   "outputs": [
    {
     "name": "stdout",
     "output_type": "stream",
     "text": [
      "A jest większe, a to 10\n"
     ]
    }
   ],
   "source": [
    "import random\n",
    "a = random.randint(0, 10)\n",
    "b = random.randint(0, 10)\n",
    "if a > b:\n",
    "    print(\"A jest większe, a to {}\".format(a))\n",
    "elif b > a:\n",
    "    print(\"B jest większe, b to {}\".format(b))"
   ]
  },
  {
   "cell_type": "markdown",
   "metadata": {},
   "source": [
    "## Warunki 2:\n",
    "Zmodyfikuj klauzule z poprzedniego zadania tak aby w przypadku gdy zmienne są równe wypisywała \"Zmienne są równe\"."
   ]
  },
  {
   "cell_type": "code",
   "execution_count": 31,
   "metadata": {
    "collapsed": false
   },
   "outputs": [
    {
     "name": "stdout",
     "output_type": "stream",
     "text": [
      "Zmienne są równe\n"
     ]
    }
   ],
   "source": [
    "import random\n",
    "a = random.randint(0, 10)\n",
    "b = random.randint(0, 10)\n",
    "if a > b:\n",
    "    print(\"A jest większe, a to {}\".format(a))\n",
    "elif b > a:\n",
    "    print(\"B jest większe, b to {}\".format(b))\n",
    "else:\n",
    "    print(\"Zmienne są równe\")"
   ]
  },
  {
   "cell_type": "markdown",
   "metadata": {},
   "source": [
    "## Pętla for:\n",
    "\n",
    "```python\n",
    "foo='abcd'\n",
    "for i in foo:\n",
    "    print(i)\n",
    "\n",
    "for i in range(5):\n",
    "    print(i)\n",
    "\n",
    "for i in range(2,len(foo)):\n",
    "    print(foo[i])\n",
    "```"
   ]
  },
  {
   "cell_type": "code",
   "execution_count": 32,
   "metadata": {
    "collapsed": false
   },
   "outputs": [
    {
     "name": "stdout",
     "output_type": "stream",
     "text": [
      "a\n",
      "b\n",
      "c\n",
      "d\n",
      "0\n",
      "1\n",
      "2\n",
      "3\n",
      "4\n",
      "c\n",
      "d\n"
     ]
    }
   ],
   "source": [
    "foo='abcd'\n",
    "for i in foo:\n",
    "    print(i)\n",
    "\n",
    "for i in range(5):\n",
    "    print(i)\n",
    "\n",
    "for i in range(2,len(foo)):\n",
    "    print(foo[i])"
   ]
  },
  {
   "cell_type": "markdown",
   "metadata": {},
   "source": [
    "## Slicing:\n",
    "\n",
    "```python\n",
    "bar\n",
    "[6, 7, 8, 5, 6, 'asdfa']\n",
    "bar[1]\n",
    "\n",
    "bar[1:]\n",
    "\n",
    "bar[2:]\n",
    "\n",
    "bar[-1:]\n",
    "\n",
    "bar[:-1]\n",
    "\n",
    "bar[1:2]\n",
    "\n",
    "bar[1:3]\n",
    "\n",
    "bar[1::2]\n",
    "\n",
    "bar[::2]\n",
    "\n",
    "bar[1::2]\n",
    "```"
   ]
  },
  {
   "cell_type": "code",
   "execution_count": 37,
   "metadata": {
    "collapsed": false
   },
   "outputs": [
    {
     "data": {
      "text/plain": [
       "[6, 7, 8]"
      ]
     },
     "execution_count": 37,
     "metadata": {},
     "output_type": "execute_result"
    }
   ],
   "source": [
    "bar = [6, 7, 8, 5, 6, 'asdfa']\n",
    "bar[]\n"
   ]
  },
  {
   "cell_type": "markdown",
   "metadata": {},
   "source": [
    "## Advaced slicing:\n",
    "\n",
    "Zadeklaruj liste nazwisk (5). Używając pętli for oraz slicingu, policz nazwiska które na końcu mają 'ski' lub 'cki'"
   ]
  },
  {
   "cell_type": "code",
   "execution_count": 40,
   "metadata": {
    "collapsed": false
   },
   "outputs": [
    {
     "name": "stdout",
     "output_type": "stream",
     "text": [
      "2\n"
     ]
    }
   ],
   "source": [
    "nazwiska = ['wisniewski', 'wszelaki', 'nowak', 'kowalski', 'ziora']\n",
    "ile = 0\n",
    "for nazwisko in nazwiska:\n",
    "    if nazwisko[-3:] == 'ski' or nazwisko[-3:] == 'cki':\n",
    "        ile += 1\n",
    "print(ile)"
   ]
  },
  {
   "cell_type": "markdown",
   "metadata": {},
   "source": [
    "## Odwracanie stringa:\n",
    "\n",
    "```python\n",
    "foo='qwertyu'\n",
    "foo[::-1]\n",
    "```"
   ]
  },
  {
   "cell_type": "code",
   "execution_count": 41,
   "metadata": {
    "collapsed": false
   },
   "outputs": [
    {
     "data": {
      "text/plain": [
       "'uytrewq'"
      ]
     },
     "execution_count": 41,
     "metadata": {},
     "output_type": "execute_result"
    }
   ],
   "source": [
    "foo='qwertyu'\n",
    "foo[::-1]"
   ]
  }
 ],
 "metadata": {
  "kernelspec": {
   "display_name": "Python 3",
   "language": "python",
   "name": "python3"
  },
  "language_info": {
   "codemirror_mode": {
    "name": "ipython",
    "version": 3
   },
   "file_extension": ".py",
   "mimetype": "text/x-python",
   "name": "python",
   "nbconvert_exporter": "python",
   "pygments_lexer": "ipython3",
   "version": "3.5.1"
  }
 },
 "nbformat": 4,
 "nbformat_minor": 0
}
